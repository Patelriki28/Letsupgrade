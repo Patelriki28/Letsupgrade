{
  "nbformat": 4,
  "nbformat_minor": 0,
  "metadata": {
    "colab": {
      "name": "Day3 Assignment.ipynb",
      "provenance": [],
      "authorship_tag": "ABX9TyMf8noC9wwdLOoRwxLo8zwe",
      "include_colab_link": true
    },
    "kernelspec": {
      "name": "python3",
      "display_name": "Python 3"
    }
  },
  "cells": [
    {
      "cell_type": "markdown",
      "metadata": {
        "id": "view-in-github",
        "colab_type": "text"
      },
      "source": [
        "<a href=\"https://colab.research.google.com/github/Patelriki28/Letsupgrade-Python-Essentials/blob/master/Day3_Assignment.ipynb\" target=\"_parent\"><img src=\"https://colab.research.google.com/assets/colab-badge.svg\" alt=\"Open In Colab\"/></a>"
      ]
    },
    {
      "cell_type": "markdown",
      "metadata": {
        "id": "lNG0OQbqtYj8",
        "colab_type": "text"
      },
      "source": [
        "**1.Using if loop**"
      ]
    },
    {
      "cell_type": "code",
      "metadata": {
        "id": "wtrgtrtEtnkT",
        "colab_type": "code",
        "colab": {
          "base_uri": "https://localhost:8080/",
          "height": 51
        },
        "outputId": "a06ca167-c4f4-47a1-c305-1d3c90de03f5"
      },
      "source": [
        "num = int(input(\"Enter the number :- \"))\n",
        "if num<=1000:\n",
        "  print(\"Safe to land Here\")\n",
        "\n",
        "elif num<5000:\n",
        "  print(\"Come down to 1000ft\")\n",
        "\n",
        "else:\n",
        "  print(\"Go around and try later\")\n"
      ],
      "execution_count": 12,
      "outputs": [
        {
          "output_type": "stream",
          "text": [
            "Enter the number :- 1000\n",
            "Safe to land Here\n"
          ],
          "name": "stdout"
        }
      ]
    },
    {
      "cell_type": "markdown",
      "metadata": {
        "id": "YLPRfhXVtF0K",
        "colab_type": "text"
      },
      "source": [
        "**2.Print prime numbers using for loop and range**"
      ]
    },
    {
      "cell_type": "code",
      "metadata": {
        "id": "UZOYvKzQrBtZ",
        "colab_type": "code",
        "colab": {
          "base_uri": "https://localhost:8080/",
          "height": 816
        },
        "outputId": "b1d93a70-4e15-4089-caca-78e0c45c523b"
      },
      "source": [
        "lower = 1\n",
        "upper = 200\n",
        "\n",
        "print(\"Prime numbers between\",lower ,\"and\",upper,\"are:\")\n",
        "\n",
        "for num in range(lower,upper+1):\n",
        "  if num > 1:\n",
        "    for i in range(2,num):\n",
        "      if(num % i) == 0:\n",
        "        break\n",
        "    else:\n",
        "      print(num)"
      ],
      "execution_count": 11,
      "outputs": [
        {
          "output_type": "stream",
          "text": [
            "Prime numbers between 1 and 200 are:\n",
            "2\n",
            "3\n",
            "5\n",
            "7\n",
            "11\n",
            "13\n",
            "17\n",
            "19\n",
            "23\n",
            "29\n",
            "31\n",
            "37\n",
            "41\n",
            "43\n",
            "47\n",
            "53\n",
            "59\n",
            "61\n",
            "67\n",
            "71\n",
            "73\n",
            "79\n",
            "83\n",
            "89\n",
            "97\n",
            "101\n",
            "103\n",
            "107\n",
            "109\n",
            "113\n",
            "127\n",
            "131\n",
            "137\n",
            "139\n",
            "149\n",
            "151\n",
            "157\n",
            "163\n",
            "167\n",
            "173\n",
            "179\n",
            "181\n",
            "191\n",
            "193\n",
            "197\n",
            "199\n"
          ],
          "name": "stdout"
        }
      ]
    }
  ]
}