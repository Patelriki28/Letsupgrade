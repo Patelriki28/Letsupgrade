{
  "nbformat": 4,
  "nbformat_minor": 0,
  "metadata": {
    "colab": {
      "name": "Day 9 Assignment.ipynb",
      "provenance": [],
      "authorship_tag": "ABX9TyMlP7ezz7EOYTcvXZsOK3e+",
      "include_colab_link": true
    },
    "kernelspec": {
      "name": "python3",
      "display_name": "Python 3"
    }
  },
  "cells": [
    {
      "cell_type": "markdown",
      "metadata": {
        "id": "view-in-github",
        "colab_type": "text"
      },
      "source": [
        "<a href=\"https://colab.research.google.com/github/Patelriki28/Letsupgrade-Python-Essentials/blob/master/Day_9_Assignment.ipynb\" target=\"_parent\"><img src=\"https://colab.research.google.com/assets/colab-badge.svg\" alt=\"Open In Colab\"/></a>"
      ]
    },
    {
      "cell_type": "markdown",
      "metadata": {
        "id": "zoZZ8Q6pwUmf",
        "colab_type": "text"
      },
      "source": [
        "**1.Pylint and Unit tesing**"
      ]
    },
    {
      "cell_type": "code",
      "metadata": {
        "id": "0S4ryqHzyZjd",
        "colab_type": "code",
        "colab": {
          "base_uri": "https://localhost:8080/",
          "height": 411
        },
        "outputId": "c033dbaa-7ccd-456c-f41f-f4170f14696f"
      },
      "source": [
        "!pip install pylint"
      ],
      "execution_count": null,
      "outputs": [
        {
          "output_type": "stream",
          "text": [
            "Collecting pylint\n",
            "\u001b[?25l  Downloading https://files.pythonhosted.org/packages/fb/13/519c1264a134beab2be4bac8dd3e64948980a5ca7833b31cf0255b21f20a/pylint-2.6.0-py3-none-any.whl (325kB)\n",
            "\r\u001b[K     |█                               | 10kB 20.1MB/s eta 0:00:01\r\u001b[K     |██                              | 20kB 1.7MB/s eta 0:00:01\r\u001b[K     |███                             | 30kB 2.3MB/s eta 0:00:01\r\u001b[K     |████                            | 40kB 2.6MB/s eta 0:00:01\r\u001b[K     |█████                           | 51kB 2.0MB/s eta 0:00:01\r\u001b[K     |██████                          | 61kB 2.3MB/s eta 0:00:01\r\u001b[K     |███████                         | 71kB 2.5MB/s eta 0:00:01\r\u001b[K     |████████                        | 81kB 2.7MB/s eta 0:00:01\r\u001b[K     |█████████                       | 92kB 2.9MB/s eta 0:00:01\r\u001b[K     |██████████                      | 102kB 2.8MB/s eta 0:00:01\r\u001b[K     |███████████                     | 112kB 2.8MB/s eta 0:00:01\r\u001b[K     |████████████                    | 122kB 2.8MB/s eta 0:00:01\r\u001b[K     |█████████████                   | 133kB 2.8MB/s eta 0:00:01\r\u001b[K     |██████████████                  | 143kB 2.8MB/s eta 0:00:01\r\u001b[K     |███████████████                 | 153kB 2.8MB/s eta 0:00:01\r\u001b[K     |████████████████                | 163kB 2.8MB/s eta 0:00:01\r\u001b[K     |█████████████████               | 174kB 2.8MB/s eta 0:00:01\r\u001b[K     |██████████████████              | 184kB 2.8MB/s eta 0:00:01\r\u001b[K     |███████████████████▏            | 194kB 2.8MB/s eta 0:00:01\r\u001b[K     |████████████████████▏           | 204kB 2.8MB/s eta 0:00:01\r\u001b[K     |█████████████████████▏          | 215kB 2.8MB/s eta 0:00:01\r\u001b[K     |██████████████████████▏         | 225kB 2.8MB/s eta 0:00:01\r\u001b[K     |███████████████████████▏        | 235kB 2.8MB/s eta 0:00:01\r\u001b[K     |████████████████████████▏       | 245kB 2.8MB/s eta 0:00:01\r\u001b[K     |█████████████████████████▏      | 256kB 2.8MB/s eta 0:00:01\r\u001b[K     |██████████████████████████▏     | 266kB 2.8MB/s eta 0:00:01\r\u001b[K     |███████████████████████████▏    | 276kB 2.8MB/s eta 0:00:01\r\u001b[K     |████████████████████████████▏   | 286kB 2.8MB/s eta 0:00:01\r\u001b[K     |█████████████████████████████▏  | 296kB 2.8MB/s eta 0:00:01\r\u001b[K     |██████████████████████████████▏ | 307kB 2.8MB/s eta 0:00:01\r\u001b[K     |███████████████████████████████▏| 317kB 2.8MB/s eta 0:00:01\r\u001b[K     |████████████████████████████████| 327kB 2.8MB/s \n",
            "\u001b[?25hCollecting mccabe<0.7,>=0.6\n",
            "  Downloading https://files.pythonhosted.org/packages/87/89/479dc97e18549e21354893e4ee4ef36db1d237534982482c3681ee6e7b57/mccabe-0.6.1-py2.py3-none-any.whl\n",
            "Collecting isort<6,>=4.2.5\n",
            "\u001b[?25l  Downloading https://files.pythonhosted.org/packages/d1/25/7ed95ccb07d3ce52598f5a57d002da6a18074ea8749991b10936cc20e539/isort-5.5.2-py3-none-any.whl (95kB)\n",
            "\u001b[K     |████████████████████████████████| 102kB 5.3MB/s \n",
            "\u001b[?25hRequirement already satisfied: toml>=0.7.1 in /usr/local/lib/python3.6/dist-packages (from pylint) (0.10.1)\n",
            "Collecting astroid<=2.5,>=2.4.0\n",
            "\u001b[?25l  Downloading https://files.pythonhosted.org/packages/24/a8/5133f51967fb21e46ee50831c3f5dda49e976b7f915408d670b1603d41d6/astroid-2.4.2-py3-none-any.whl (213kB)\n",
            "\u001b[K     |████████████████████████████████| 215kB 8.6MB/s \n",
            "\u001b[?25hRequirement already satisfied: wrapt~=1.11 in /usr/local/lib/python3.6/dist-packages (from astroid<=2.5,>=2.4.0->pylint) (1.12.1)\n",
            "Requirement already satisfied: six~=1.12 in /usr/local/lib/python3.6/dist-packages (from astroid<=2.5,>=2.4.0->pylint) (1.15.0)\n",
            "Collecting typed-ast<1.5,>=1.4.0; implementation_name == \"cpython\" and python_version < \"3.8\"\n",
            "\u001b[?25l  Downloading https://files.pythonhosted.org/packages/90/ed/5459080d95eb87a02fe860d447197be63b6e2b5e9ff73c2b0a85622994f4/typed_ast-1.4.1-cp36-cp36m-manylinux1_x86_64.whl (737kB)\n",
            "\u001b[K     |████████████████████████████████| 747kB 12.4MB/s \n",
            "\u001b[?25hCollecting lazy-object-proxy==1.4.*\n",
            "\u001b[?25l  Downloading https://files.pythonhosted.org/packages/0b/dd/b1e3407e9e6913cf178e506cd0dee818e58694d9a5cd1984e3f6a8b9a10f/lazy_object_proxy-1.4.3-cp36-cp36m-manylinux1_x86_64.whl (55kB)\n",
            "\u001b[K     |████████████████████████████████| 61kB 7.8MB/s \n",
            "\u001b[?25hInstalling collected packages: mccabe, isort, typed-ast, lazy-object-proxy, astroid, pylint\n",
            "Successfully installed astroid-2.4.2 isort-5.5.2 lazy-object-proxy-1.4.3 mccabe-0.6.1 pylint-2.6.0 typed-ast-1.4.1\n"
          ],
          "name": "stdout"
        }
      ]
    },
    {
      "cell_type": "code",
      "metadata": {
        "id": "SOHIjrMNwlko",
        "colab_type": "code",
        "colab": {
          "base_uri": "https://localhost:8080/",
          "height": 34
        },
        "outputId": "92b8af51-6243-43bd-a8eb-61acc1b1ef44"
      },
      "source": [
        "%%writefile prime.py\n",
        "'''\n",
        "its a prime number program\n",
        "'''\n",
        "\n",
        "NUM = 11\n",
        "\n",
        "if NUM >= 1:\n",
        "  for i in range(2, NUM):\n",
        "    if (NUM% i) == 0:\n",
        "      print(NUM, \"number is not prime\")\n",
        "      break\n",
        "  else:\n",
        "      print(NUM, \"The number is prime number\")\n",
        "else:\n",
        "  print(NUM, \"number is not prime number\")\n",
        "\n"
      ],
      "execution_count": 114,
      "outputs": [
        {
          "output_type": "stream",
          "text": [
            "Overwriting prime.py\n"
          ],
          "name": "stdout"
        }
      ]
    },
    {
      "cell_type": "code",
      "metadata": {
        "id": "myoAgq0ZysR8",
        "colab_type": "code",
        "colab": {
          "base_uri": "https://localhost:8080/",
          "height": 221
        },
        "outputId": "0d6cde86-d3c9-4824-8998-79a07212805b"
      },
      "source": [
        "!pylint \"prime.py\""
      ],
      "execution_count": null,
      "outputs": [
        {
          "output_type": "stream",
          "text": [
            "************* Module prime\n",
            "prime.py:8:0: W0311: Bad indentation. Found 2 spaces, expected 4 (bad-indentation)\n",
            "prime.py:9:0: W0311: Bad indentation. Found 4 spaces, expected 8 (bad-indentation)\n",
            "prime.py:10:0: W0311: Bad indentation. Found 6 spaces, expected 12 (bad-indentation)\n",
            "prime.py:11:0: W0311: Bad indentation. Found 6 spaces, expected 12 (bad-indentation)\n",
            "prime.py:12:0: W0311: Bad indentation. Found 2 spaces, expected 4 (bad-indentation)\n",
            "prime.py:13:0: W0311: Bad indentation. Found 6 spaces, expected 8 (bad-indentation)\n",
            "prime.py:15:0: W0311: Bad indentation. Found 2 spaces, expected 4 (bad-indentation)\n",
            "\n",
            "------------------------------------------------------------------\n",
            "Your code has been rated at 1.25/10 (previous run: 1.25/10, +0.00)\n",
            "\n"
          ],
          "name": "stdout"
        }
      ]
    },
    {
      "cell_type": "markdown",
      "metadata": {
        "id": "IdN3XZn8EzQT",
        "colab_type": "text"
      },
      "source": [
        "**Sir I am not able solve this error I tried more time but I did't it so plz can you solve it and return to me this solution.**"
      ]
    },
    {
      "cell_type": "markdown",
      "metadata": {
        "id": "H55Z1pJQFJbf",
        "colab_type": "text"
      },
      "source": [
        "**2. Generator conecept:**"
      ]
    },
    {
      "cell_type": "code",
      "metadata": {
        "id": "0_oEIe-4Fa2p",
        "colab_type": "code",
        "colab": {
          "base_uri": "https://localhost:8080/",
          "height": 255
        },
        "outputId": "cb219c28-abbc-4737-a67d-b683b84aca3c"
      },
      "source": [
        "lower = 0\n",
        "upper = 1000\n",
        "\n",
        "for num in range(lower,upper + 1):\n",
        "  order = len(str(num))\n",
        "  sum = 0\n",
        "\n",
        "  temp = num\n",
        "  while temp>0:\n",
        "    digit = temp % 10\n",
        "    sum += digit ** order\n",
        "    temp //= 10\n",
        "\n",
        "  if num == sum:\n",
        "    print(num)\n",
        "\n"
      ],
      "execution_count": 116,
      "outputs": [
        {
          "output_type": "stream",
          "text": [
            "0\n",
            "1\n",
            "2\n",
            "3\n",
            "4\n",
            "5\n",
            "6\n",
            "7\n",
            "8\n",
            "9\n",
            "153\n",
            "370\n",
            "371\n",
            "407\n"
          ],
          "name": "stdout"
        }
      ]
    }
  ]
}