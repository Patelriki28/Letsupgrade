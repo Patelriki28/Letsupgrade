{
  "nbformat": 4,
  "nbformat_minor": 0,
  "metadata": {
    "colab": {
      "name": "Day 2 Assignment.ipynb",
      "provenance": [],
      "authorship_tag": "ABX9TyMkIuDQUhCR6m4Q79pjTxHs",
      "include_colab_link": true
    },
    "kernelspec": {
      "name": "python3",
      "display_name": "Python 3"
    }
  },
  "cells": [
    {
      "cell_type": "markdown",
      "metadata": {
        "id": "view-in-github",
        "colab_type": "text"
      },
      "source": [
        "<a href=\"https://colab.research.google.com/github/Patelriki28/Letsupgrade/blob/master/Day_2_Assignment.ipynb\" target=\"_parent\"><img src=\"https://colab.research.google.com/assets/colab-badge.svg\" alt=\"Open In Colab\"/></a>"
      ]
    },
    {
      "cell_type": "markdown",
      "metadata": {
        "id": "0Rpdc7x0PY7P",
        "colab_type": "text"
      },
      "source": [
        "**1.List and it default functions**"
      ]
    },
    {
      "cell_type": "code",
      "metadata": {
        "id": "-6bHH4JlPkSg",
        "colab_type": "code",
        "colab": {}
      },
      "source": [
        "L1 = [\"Riki\",12,46.88,2828]\n",
        "L2 = [747,4747,84.89,\"Rockey\"]"
      ],
      "execution_count": null,
      "outputs": []
    },
    {
      "cell_type": "code",
      "metadata": {
        "id": "c3Yiht_DQbl6",
        "colab_type": "code",
        "colab": {
          "base_uri": "https://localhost:8080/",
          "height": 51
        },
        "outputId": "b48859df-fbb6-4205-d3ec-f5cfed6649e1"
      },
      "source": [
        "print(L1)\n",
        "print(L2)"
      ],
      "execution_count": null,
      "outputs": [
        {
          "output_type": "stream",
          "text": [
            "['Riki', 12, 46.88, 2828]\n",
            "[747, 4747, 84.89, 'Rockey']\n"
          ],
          "name": "stdout"
        }
      ]
    },
    {
      "cell_type": "code",
      "metadata": {
        "id": "uNkXGKYwQfpV",
        "colab_type": "code",
        "colab": {
          "base_uri": "https://localhost:8080/",
          "height": 34
        },
        "outputId": "3ec43c72-f699-4ef7-ad8a-c02a0ea22f1c"
      },
      "source": [
        "type(L1)"
      ],
      "execution_count": null,
      "outputs": [
        {
          "output_type": "execute_result",
          "data": {
            "text/plain": [
              "list"
            ]
          },
          "metadata": {
            "tags": []
          },
          "execution_count": 8
        }
      ]
    },
    {
      "cell_type": "code",
      "metadata": {
        "id": "NuKoYQkBQ_DU",
        "colab_type": "code",
        "colab": {
          "base_uri": "https://localhost:8080/",
          "height": 34
        },
        "outputId": "b298fc61-194b-4591-f32a-bb1e52b00640"
      },
      "source": [
        "L1.append(52103)\n",
        "print(L1)"
      ],
      "execution_count": null,
      "outputs": [
        {
          "output_type": "stream",
          "text": [
            "['Riki', 12, 46.88, 2828, 52103, 52103]\n"
          ],
          "name": "stdout"
        }
      ]
    },
    {
      "cell_type": "code",
      "metadata": {
        "id": "RrR_k7bpSdZY",
        "colab_type": "code",
        "colab": {
          "base_uri": "https://localhost:8080/",
          "height": 34
        },
        "outputId": "bbaa4744-72a8-4b09-b352-8682f9eaa810"
      },
      "source": [
        "L1.insert(2,45201)\n",
        "print(L1)"
      ],
      "execution_count": null,
      "outputs": [
        {
          "output_type": "stream",
          "text": [
            "['Riki', 12, 45201, 54201, 'Patel', 'Patel', 46.88, 2828, 52103, 52103]\n"
          ],
          "name": "stdout"
        }
      ]
    },
    {
      "cell_type": "code",
      "metadata": {
        "id": "0Aa_79tGSv1_",
        "colab_type": "code",
        "colab": {
          "base_uri": "https://localhost:8080/",
          "height": 34
        },
        "outputId": "6a6f6fbd-437c-448a-baff-13a9d67b22c9"
      },
      "source": [
        "L1.extend(L2) #add list2 to list1\n",
        "print(L1)"
      ],
      "execution_count": null,
      "outputs": [
        {
          "output_type": "stream",
          "text": [
            "['Riki', 12, 45201, 54201, 'Patel', 'Patel', 46.88, 2828, 52103, 52103, 747, 4747, 84.89, 'Rockey']\n"
          ],
          "name": "stdout"
        }
      ]
    },
    {
      "cell_type": "code",
      "metadata": {
        "id": "kpfU3TFJS9-l",
        "colab_type": "code",
        "colab": {
          "base_uri": "https://localhost:8080/",
          "height": 34
        },
        "outputId": "716675d3-1da3-4986-ab4c-c003f5a16288"
      },
      "source": [
        "L2.extend(L1) #add list1 to list2\n",
        "print(L2)"
      ],
      "execution_count": null,
      "outputs": [
        {
          "output_type": "stream",
          "text": [
            "[747, 4747, 84.89, 'Rockey', 'Riki', 12, 45201, 54201, 'Patel', 'Patel', 46.88, 2828, 52103, 52103, 747, 4747, 84.89, 'Rockey']\n"
          ],
          "name": "stdout"
        }
      ]
    },
    {
      "cell_type": "code",
      "metadata": {
        "id": "I0dx5rfgTPB2",
        "colab_type": "code",
        "colab": {
          "base_uri": "https://localhost:8080/",
          "height": 34
        },
        "outputId": "6bbad1ad-dcde-412e-bbe3-2f869cd11fb0"
      },
      "source": [
        "L1.count(\"Patel\")"
      ],
      "execution_count": null,
      "outputs": [
        {
          "output_type": "execute_result",
          "data": {
            "text/plain": [
              "2"
            ]
          },
          "metadata": {
            "tags": []
          },
          "execution_count": 21
        }
      ]
    },
    {
      "cell_type": "code",
      "metadata": {
        "id": "tYC3-TM1UIOe",
        "colab_type": "code",
        "colab": {
          "base_uri": "https://localhost:8080/",
          "height": 34
        },
        "outputId": "88a759f6-c5eb-4a8e-f121-60b438d78b4c"
      },
      "source": [
        "L1.index(46.88)"
      ],
      "execution_count": null,
      "outputs": [
        {
          "output_type": "execute_result",
          "data": {
            "text/plain": [
              "6"
            ]
          },
          "metadata": {
            "tags": []
          },
          "execution_count": 23
        }
      ]
    },
    {
      "cell_type": "code",
      "metadata": {
        "id": "zBmBp2n7UoRE",
        "colab_type": "code",
        "colab": {
          "base_uri": "https://localhost:8080/",
          "height": 34
        },
        "outputId": "c0db8bcd-974d-475f-8cb4-c2d37fe15e01"
      },
      "source": [
        "len(L1)"
      ],
      "execution_count": null,
      "outputs": [
        {
          "output_type": "execute_result",
          "data": {
            "text/plain": [
              "14"
            ]
          },
          "metadata": {
            "tags": []
          },
          "execution_count": 24
        }
      ]
    },
    {
      "cell_type": "code",
      "metadata": {
        "id": "NXHFP4oaUu7x",
        "colab_type": "code",
        "colab": {
          "base_uri": "https://localhost:8080/",
          "height": 34
        },
        "outputId": "bae9be4d-656b-4210-b5d0-4704f91fa2f4"
      },
      "source": [
        "List = [2.3, 4.445, 3, 5.33, 1.054, 2.5] \n",
        "print(List)"
      ],
      "execution_count": null,
      "outputs": [
        {
          "output_type": "stream",
          "text": [
            "[2.3, 4.445, 3, 5.33, 1.054, 2.5]\n"
          ],
          "name": "stdout"
        }
      ]
    },
    {
      "cell_type": "code",
      "metadata": {
        "id": "4mZ_mSu5VjPF",
        "colab_type": "code",
        "colab": {
          "base_uri": "https://localhost:8080/",
          "height": 34
        },
        "outputId": "9a179ffe-63e1-4938-f145-0db7dfd34b07"
      },
      "source": [
        "List.sort(reverse=True)\n",
        "print(List)"
      ],
      "execution_count": null,
      "outputs": [
        {
          "output_type": "stream",
          "text": [
            "[5.33, 4.445, 3, 2.5, 2.3, 1.054]\n"
          ],
          "name": "stdout"
        }
      ]
    },
    {
      "cell_type": "code",
      "metadata": {
        "id": "X8rpZvDpV1Yx",
        "colab_type": "code",
        "colab": {
          "base_uri": "https://localhost:8080/",
          "height": 34
        },
        "outputId": "ba6b8f22-28b9-406b-e908-411ae45acbd8"
      },
      "source": [
        "List = [2.3, 4.445, 3, 5.33, 1.054, 2.5] \n",
        "print(List)\n"
      ],
      "execution_count": null,
      "outputs": [
        {
          "output_type": "stream",
          "text": [
            "[2.3, 4.445, 3, 5.33, 1.054, 2.5]\n"
          ],
          "name": "stdout"
        }
      ]
    },
    {
      "cell_type": "code",
      "metadata": {
        "id": "SprjzPIWWLwT",
        "colab_type": "code",
        "colab": {
          "base_uri": "https://localhost:8080/",
          "height": 34
        },
        "outputId": "63e3dfa8-2efb-4ad2-ab55-42efce9c709c"
      },
      "source": [
        "sorted(List)"
      ],
      "execution_count": null,
      "outputs": [
        {
          "output_type": "execute_result",
          "data": {
            "text/plain": [
              "[1.054, 2.3, 2.5, 3, 4.445, 5.33]"
            ]
          },
          "metadata": {
            "tags": []
          },
          "execution_count": 35
        }
      ]
    },
    {
      "cell_type": "code",
      "metadata": {
        "id": "mcWoHgcxWRBQ",
        "colab_type": "code",
        "colab": {
          "base_uri": "https://localhost:8080/",
          "height": 34
        },
        "outputId": "6b0925e3-c637-4149-874a-a3462082061e"
      },
      "source": [
        "print(List.pop((3)))"
      ],
      "execution_count": null,
      "outputs": [
        {
          "output_type": "stream",
          "text": [
            "5.33\n"
          ],
          "name": "stdout"
        }
      ]
    },
    {
      "cell_type": "code",
      "metadata": {
        "id": "nUa0zpG-W-6u",
        "colab_type": "code",
        "colab": {
          "base_uri": "https://localhost:8080/",
          "height": 34
        },
        "outputId": "23ad4fe7-3751-4fb0-84df-44f1942b3c74"
      },
      "source": [
        "del List[0]\n",
        "print(List)"
      ],
      "execution_count": null,
      "outputs": [
        {
          "output_type": "stream",
          "text": [
            "[4.445, 3, 1.054, 2.5]\n"
          ],
          "name": "stdout"
        }
      ]
    },
    {
      "cell_type": "code",
      "metadata": {
        "id": "YIEJPJE9XQBN",
        "colab_type": "code",
        "colab": {
          "base_uri": "https://localhost:8080/",
          "height": 34
        },
        "outputId": "6b1daed5-6de8-47f6-be74-6f71df528529"
      },
      "source": [
        "List.remove(3)\n",
        "print(List)"
      ],
      "execution_count": null,
      "outputs": [
        {
          "output_type": "stream",
          "text": [
            "[1.054, 2.5]\n"
          ],
          "name": "stdout"
        }
      ]
    },
    {
      "cell_type": "code",
      "metadata": {
        "id": "_-oJJvcKXxAp",
        "colab_type": "code",
        "colab": {
          "base_uri": "https://localhost:8080/",
          "height": 34
        },
        "outputId": "bea8ade1-691c-4b91-b20d-19cd03e21856"
      },
      "source": [
        "List.clear()\n",
        "print(List)"
      ],
      "execution_count": null,
      "outputs": [
        {
          "output_type": "stream",
          "text": [
            "[]\n"
          ],
          "name": "stdout"
        }
      ]
    },
    {
      "cell_type": "markdown",
      "metadata": {
        "id": "tDDVcytXX2Nf",
        "colab_type": "text"
      },
      "source": [
        "**2.Dictionary and its default functions**"
      ]
    },
    {
      "cell_type": "code",
      "metadata": {
        "id": "4HnVVI6GYB3d",
        "colab_type": "code",
        "colab": {}
      },
      "source": [
        "dit = {\"name\":\"Riki Patel\", \"age\":\"21\",\"Branch\":\"IT\",\n",
        "       \"number\":123456,\"email\":\"patelrp28@gmail.com\"}"
      ],
      "execution_count": null,
      "outputs": []
    },
    {
      "cell_type": "code",
      "metadata": {
        "id": "aBpHpboUh9K7",
        "colab_type": "code",
        "colab": {
          "base_uri": "https://localhost:8080/",
          "height": 34
        },
        "outputId": "25a01de9-2008-4dc4-f824-dbc9d71a7724"
      },
      "source": [
        "print(dit)"
      ],
      "execution_count": null,
      "outputs": [
        {
          "output_type": "stream",
          "text": [
            "{'name': 'Riki Patel', 'age': '21', 'Branch': 'IT', 'number': 123456, 'email': 'patelrp28@gmail.com'}\n"
          ],
          "name": "stdout"
        }
      ]
    },
    {
      "cell_type": "code",
      "metadata": {
        "id": "4NiiywwXiAmd",
        "colab_type": "code",
        "colab": {
          "base_uri": "https://localhost:8080/",
          "height": 35
        },
        "outputId": "0792816d-78cc-4967-bb7e-19f1457a0a22"
      },
      "source": [
        "dit.get(\"age\")"
      ],
      "execution_count": null,
      "outputs": [
        {
          "output_type": "execute_result",
          "data": {
            "application/vnd.google.colaboratory.intrinsic+json": {
              "type": "string"
            },
            "text/plain": [
              "'21'"
            ]
          },
          "metadata": {
            "tags": []
          },
          "execution_count": 51
        }
      ]
    },
    {
      "cell_type": "code",
      "metadata": {
        "id": "hm2IjWRCiKOV",
        "colab_type": "code",
        "colab": {
          "base_uri": "https://localhost:8080/",
          "height": 34
        },
        "outputId": "f86cb21a-073d-4bdb-e2c0-9459ba7902c8"
      },
      "source": [
        "dit.items()"
      ],
      "execution_count": null,
      "outputs": [
        {
          "output_type": "execute_result",
          "data": {
            "text/plain": [
              "dict_items([('name', 'Riki Patel'), ('age', '21'), ('Branch', 'IT'), ('number', 123456), ('email', 'patelrp28@gmail.com')])"
            ]
          },
          "metadata": {
            "tags": []
          },
          "execution_count": 52
        }
      ]
    },
    {
      "cell_type": "code",
      "metadata": {
        "id": "arDTlvNpicPj",
        "colab_type": "code",
        "colab": {
          "base_uri": "https://localhost:8080/",
          "height": 102
        },
        "outputId": "5aeb48bb-54b3-470a-9b0d-dc5a1dd9716a"
      },
      "source": [
        "dit.copy()"
      ],
      "execution_count": null,
      "outputs": [
        {
          "output_type": "execute_result",
          "data": {
            "text/plain": [
              "{'Branch': 'IT',\n",
              " 'age': '21',\n",
              " 'email': 'patelrp28@gmail.com',\n",
              " 'name': 'Riki Patel',\n",
              " 'number': 123456}"
            ]
          },
          "metadata": {
            "tags": []
          },
          "execution_count": 55
        }
      ]
    },
    {
      "cell_type": "code",
      "metadata": {
        "id": "6UDW3fH-iyvK",
        "colab_type": "code",
        "colab": {
          "base_uri": "https://localhost:8080/",
          "height": 34
        },
        "outputId": "6e90f24a-a4a9-417e-f73c-a8ba13cb126d"
      },
      "source": [
        "dit.fromkeys(\"age\")"
      ],
      "execution_count": null,
      "outputs": [
        {
          "output_type": "execute_result",
          "data": {
            "text/plain": [
              "{'a': None, 'e': None, 'g': None}"
            ]
          },
          "metadata": {
            "tags": []
          },
          "execution_count": 59
        }
      ]
    },
    {
      "cell_type": "code",
      "metadata": {
        "id": "MUGmylWDjJ4C",
        "colab_type": "code",
        "colab": {
          "base_uri": "https://localhost:8080/",
          "height": 34
        },
        "outputId": "32af7362-9094-46ff-b311-b527ba5dceba"
      },
      "source": [
        "dit.keys()"
      ],
      "execution_count": null,
      "outputs": [
        {
          "output_type": "execute_result",
          "data": {
            "text/plain": [
              "dict_keys(['name', 'age', 'Branch', 'number', 'email'])"
            ]
          },
          "metadata": {
            "tags": []
          },
          "execution_count": 60
        }
      ]
    },
    {
      "cell_type": "code",
      "metadata": {
        "id": "5g7Z99wOjn_I",
        "colab_type": "code",
        "colab": {
          "base_uri": "https://localhost:8080/",
          "height": 34
        },
        "outputId": "d9783725-a76a-4fc6-d864-4e44013928bb"
      },
      "source": [
        "dit = {\"name\":\"Riki Patel\", \"age\":\"21\",\"Branch\":\"IT\",\n",
        "       \"number\":123456,\"email\":\"patelrp28@gmail.com\"}\n",
        "print(dit)"
      ],
      "execution_count": null,
      "outputs": [
        {
          "output_type": "stream",
          "text": [
            "{'name': 'Riki Patel', 'age': '21', 'Branch': 'IT', 'number': 123456, 'email': 'patelrp28@gmail.com'}\n"
          ],
          "name": "stdout"
        }
      ]
    },
    {
      "cell_type": "code",
      "metadata": {
        "id": "beha5IFSj4Lp",
        "colab_type": "code",
        "colab": {
          "base_uri": "https://localhost:8080/",
          "height": 35
        },
        "outputId": "c72442c9-f6bd-4923-822a-6e1545c406ae"
      },
      "source": [
        "dit.pop(\"Branch\")"
      ],
      "execution_count": null,
      "outputs": [
        {
          "output_type": "execute_result",
          "data": {
            "application/vnd.google.colaboratory.intrinsic+json": {
              "type": "string"
            },
            "text/plain": [
              "'IT'"
            ]
          },
          "metadata": {
            "tags": []
          },
          "execution_count": 70
        }
      ]
    },
    {
      "cell_type": "code",
      "metadata": {
        "id": "1iqesWMzj8CI",
        "colab_type": "code",
        "colab": {
          "base_uri": "https://localhost:8080/",
          "height": 34
        },
        "outputId": "0930c5de-a8ca-4333-9f9c-af21b1c3c747"
      },
      "source": [
        "print(dit)"
      ],
      "execution_count": null,
      "outputs": [
        {
          "output_type": "stream",
          "text": [
            "{'name': 'Riki Patel', 'age': '21', 'number': 123456, 'email': 'patelrp28@gmail.com'}\n"
          ],
          "name": "stdout"
        }
      ]
    },
    {
      "cell_type": "code",
      "metadata": {
        "id": "Yy0LTpEDkG1U",
        "colab_type": "code",
        "colab": {
          "base_uri": "https://localhost:8080/",
          "height": 34
        },
        "outputId": "73eb1a5c-7850-42c6-c733-91178398119b"
      },
      "source": [
        "dit.values()"
      ],
      "execution_count": null,
      "outputs": [
        {
          "output_type": "execute_result",
          "data": {
            "text/plain": [
              "dict_values(['Riki Patel', '21', 123456, 'patelrp28@gmail.com'])"
            ]
          },
          "metadata": {
            "tags": []
          },
          "execution_count": 72
        }
      ]
    },
    {
      "cell_type": "code",
      "metadata": {
        "id": "jp731DfqkLpN",
        "colab_type": "code",
        "colab": {
          "base_uri": "https://localhost:8080/",
          "height": 34
        },
        "outputId": "5cd55932-e3ea-43a0-b3fb-996aee856b8c"
      },
      "source": [
        "dit.update(dit)\n",
        "dit = {\"email\" : \"patelriki028@gmail.com\"}\n",
        "print(dit)"
      ],
      "execution_count": null,
      "outputs": [
        {
          "output_type": "stream",
          "text": [
            "{'email': 'patelriki028@gmail.com'}\n"
          ],
          "name": "stdout"
        }
      ]
    },
    {
      "cell_type": "code",
      "metadata": {
        "id": "6aNFjt9dmAcL",
        "colab_type": "code",
        "colab": {
          "base_uri": "https://localhost:8080/",
          "height": 34
        },
        "outputId": "0e8fdd49-cb59-4217-97c5-0dfaecac3a77"
      },
      "source": [
        "print(dit)"
      ],
      "execution_count": null,
      "outputs": [
        {
          "output_type": "stream",
          "text": [
            "{'email': 'patelriki028@gmail.com'}\n"
          ],
          "name": "stdout"
        }
      ]
    },
    {
      "cell_type": "code",
      "metadata": {
        "id": "oH_jqMd0mPsT",
        "colab_type": "code",
        "colab": {
          "base_uri": "https://localhost:8080/",
          "height": 34
        },
        "outputId": "ef3e00bb-c37c-4424-88dc-ed8092104886"
      },
      "source": [
        "dit = {\"name\":\"Riki Patel\", \"age\":\"21\",\"Branch\":\"IT\",\n",
        "       \"number\":123456,\"email\":\"patelrp28@gmail.com\"}\n",
        "print(dit)"
      ],
      "execution_count": null,
      "outputs": [
        {
          "output_type": "stream",
          "text": [
            "{'name': 'Riki Patel', 'age': '21', 'Branch': 'IT', 'number': 123456, 'email': 'patelrp28@gmail.com'}\n"
          ],
          "name": "stdout"
        }
      ]
    },
    {
      "cell_type": "code",
      "metadata": {
        "id": "p98tjyOrmfTH",
        "colab_type": "code",
        "colab": {
          "base_uri": "https://localhost:8080/",
          "height": 35
        },
        "outputId": "e9f0173c-16d8-496f-a4ac-69f7a9dbaaec"
      },
      "source": [
        "dit.setdefault(\"age\")"
      ],
      "execution_count": null,
      "outputs": [
        {
          "output_type": "execute_result",
          "data": {
            "application/vnd.google.colaboratory.intrinsic+json": {
              "type": "string"
            },
            "text/plain": [
              "'21'"
            ]
          },
          "metadata": {
            "tags": []
          },
          "execution_count": 84
        }
      ]
    },
    {
      "cell_type": "code",
      "metadata": {
        "id": "F90-Ae1impaN",
        "colab_type": "code",
        "colab": {
          "base_uri": "https://localhost:8080/",
          "height": 34
        },
        "outputId": "eeb43938-eae0-421e-fba1-56a1bef422bb"
      },
      "source": [
        "dit.popitem()"
      ],
      "execution_count": null,
      "outputs": [
        {
          "output_type": "execute_result",
          "data": {
            "text/plain": [
              "('email', 'patelrp28@gmail.com')"
            ]
          },
          "metadata": {
            "tags": []
          },
          "execution_count": 85
        }
      ]
    },
    {
      "cell_type": "code",
      "metadata": {
        "id": "FTUS--Pgmv9T",
        "colab_type": "code",
        "colab": {
          "base_uri": "https://localhost:8080/",
          "height": 34
        },
        "outputId": "5f7a391c-5467-4cb1-e605-2292fb39e3d9"
      },
      "source": [
        "print(dit)"
      ],
      "execution_count": null,
      "outputs": [
        {
          "output_type": "stream",
          "text": [
            "{'name': 'Riki Patel', 'age': '21', 'Branch': 'IT', 'number': 123456}\n"
          ],
          "name": "stdout"
        }
      ]
    },
    {
      "cell_type": "code",
      "metadata": {
        "id": "4WUyNQ3Cmy_t",
        "colab_type": "code",
        "colab": {
          "base_uri": "https://localhost:8080/",
          "height": 34
        },
        "outputId": "b4cd2734-0eaa-411a-ca9c-b600591e2d53"
      },
      "source": [
        "dit.clear()\n",
        "print(dit)"
      ],
      "execution_count": null,
      "outputs": [
        {
          "output_type": "stream",
          "text": [
            "{}\n"
          ],
          "name": "stdout"
        }
      ]
    },
    {
      "cell_type": "markdown",
      "metadata": {
        "id": "2vcckP5Em3cM",
        "colab_type": "text"
      },
      "source": [
        "**3.Sets and its default functions**"
      ]
    },
    {
      "cell_type": "code",
      "metadata": {
        "id": "jgrffJThnIeP",
        "colab_type": "code",
        "colab": {
          "base_uri": "https://localhost:8080/",
          "height": 68
        },
        "outputId": "a421ed70-7acb-465b-9fc6-507c54cd8dca"
      },
      "source": [
        "set1 = {\"Riki Patel\",123,25.567,123,\"Python\"}\n",
        "set2 = {\"Python\",123}\n",
        "print(set1)\n",
        "print(\"Python\" in set1)\n",
        "set2.issubset(set1)"
      ],
      "execution_count": null,
      "outputs": [
        {
          "output_type": "stream",
          "text": [
            "{123, 25.567, 'Riki Patel', 'Python'}\n",
            "True\n"
          ],
          "name": "stdout"
        },
        {
          "output_type": "execute_result",
          "data": {
            "text/plain": [
              "True"
            ]
          },
          "metadata": {
            "tags": []
          },
          "execution_count": 92
        }
      ]
    },
    {
      "cell_type": "code",
      "metadata": {
        "id": "TFbgxRPpoofr",
        "colab_type": "code",
        "colab": {
          "base_uri": "https://localhost:8080/",
          "height": 34
        },
        "outputId": "bf0b04d5-01a9-4322-93cf-6c5b3e511b86"
      },
      "source": [
        "set1.add(\"letsupgarde\")\n",
        "print(set1)"
      ],
      "execution_count": null,
      "outputs": [
        {
          "output_type": "stream",
          "text": [
            "{'letsupgarde', 'Python', 25.567, 123, 'Riki Patel'}\n"
          ],
          "name": "stdout"
        }
      ]
    },
    {
      "cell_type": "code",
      "metadata": {
        "id": "vH0zJZXCmZUI",
        "colab_type": "code",
        "colab": {
          "base_uri": "https://localhost:8080/",
          "height": 51
        },
        "outputId": "109614f9-51c2-43de-c315-b8d78a2b50cc"
      },
      "source": [
        "set1.update([\"java\",\"c++\",254])\n",
        "print(set1)\n",
        "print(len(set1))"
      ],
      "execution_count": null,
      "outputs": [
        {
          "output_type": "stream",
          "text": [
            "{'letsupgarde', 'Python', 'c++', 25.567, 'java', 123, 254, 'Riki Patel'}\n",
            "8\n"
          ],
          "name": "stdout"
        }
      ]
    },
    {
      "cell_type": "code",
      "metadata": {
        "id": "cpOzmnWGpgsX",
        "colab_type": "code",
        "colab": {
          "base_uri": "https://localhost:8080/",
          "height": 34
        },
        "outputId": "a41325b6-f9d6-4bd4-e59a-c8bafe8debcb"
      },
      "source": [
        "set1.remove(\"c++\")\n",
        "print(set1)"
      ],
      "execution_count": null,
      "outputs": [
        {
          "output_type": "stream",
          "text": [
            "{'letsupgarde', 'Python', 25.567, 'java', 123, 254, 'Riki Patel'}\n"
          ],
          "name": "stdout"
        }
      ]
    },
    {
      "cell_type": "code",
      "metadata": {
        "id": "Ew02nm0Lp61K",
        "colab_type": "code",
        "colab": {
          "base_uri": "https://localhost:8080/",
          "height": 51
        },
        "outputId": "2a0b730f-2c23-447a-ed3d-082489849551"
      },
      "source": [
        "x=set1.pop()\n",
        "print(x)\n",
        "print(set1)"
      ],
      "execution_count": null,
      "outputs": [
        {
          "output_type": "stream",
          "text": [
            "Python\n",
            "{25.567, 'java', 123, 254, 'Riki Patel'}\n"
          ],
          "name": "stdout"
        }
      ]
    },
    {
      "cell_type": "code",
      "metadata": {
        "id": "W7RYJRY9qXhQ",
        "colab_type": "code",
        "colab": {
          "base_uri": "https://localhost:8080/",
          "height": 34
        },
        "outputId": "2973295b-225d-44a1-8bde-f690053958f1"
      },
      "source": [
        "set3={\"letsupgarde\",355,\"Cricket\"}\n",
        "set4 = set1.union(set3)\n",
        "print(set4)\n"
      ],
      "execution_count": null,
      "outputs": [
        {
          "output_type": "stream",
          "text": [
            "{'letsupgarde', 355, 'Cricket', 25.567, 'java', 123, 254, 'Riki Patel'}\n"
          ],
          "name": "stdout"
        }
      ]
    },
    {
      "cell_type": "code",
      "metadata": {
        "id": "WMpBpWafqxqL",
        "colab_type": "code",
        "colab": {
          "base_uri": "https://localhost:8080/",
          "height": 51
        },
        "outputId": "a0dfeb4b-ca3f-4188-cfed-3ff95b219aa2"
      },
      "source": [
        "set3.update(set2)\n",
        "print(set3)\n",
        "set1.difference(set3)\n",
        "set1.copy()"
      ],
      "execution_count": null,
      "outputs": [
        {
          "output_type": "stream",
          "text": [
            "{'letsupgarde', 355, 'Cricket', 123, 'Python'}\n"
          ],
          "name": "stdout"
        },
        {
          "output_type": "execute_result",
          "data": {
            "text/plain": [
              "{123, 25.567, 254, 'Riki Patel', 'java'}"
            ]
          },
          "metadata": {
            "tags": []
          },
          "execution_count": 107
        }
      ]
    },
    {
      "cell_type": "code",
      "metadata": {
        "id": "QvDJr4jGrcUD",
        "colab_type": "code",
        "colab": {
          "base_uri": "https://localhost:8080/",
          "height": 34
        },
        "outputId": "92136491-e8c0-4280-d6d7-288c34fe40e4"
      },
      "source": [
        "set1.issuperset(set3)"
      ],
      "execution_count": null,
      "outputs": [
        {
          "output_type": "execute_result",
          "data": {
            "text/plain": [
              "False"
            ]
          },
          "metadata": {
            "tags": []
          },
          "execution_count": 108
        }
      ]
    },
    {
      "cell_type": "code",
      "metadata": {
        "id": "HkfuPFhQrk_G",
        "colab_type": "code",
        "colab": {
          "base_uri": "https://localhost:8080/",
          "height": 34
        },
        "outputId": "13f94b87-6267-4f09-ea27-1d6ca3ba5ed6"
      },
      "source": [
        "set1.clear()\n",
        "print(set1)"
      ],
      "execution_count": null,
      "outputs": [
        {
          "output_type": "stream",
          "text": [
            "set()\n"
          ],
          "name": "stdout"
        }
      ]
    },
    {
      "cell_type": "markdown",
      "metadata": {
        "id": "GwPqtsmprx5J",
        "colab_type": "text"
      },
      "source": [
        "**4.Tuples and explore default methods**"
      ]
    },
    {
      "cell_type": "code",
      "metadata": {
        "id": "8n2Raw89r_5m",
        "colab_type": "code",
        "colab": {
          "base_uri": "https://localhost:8080/",
          "height": 34
        },
        "outputId": "4495b32c-cdc2-440e-8729-4bb1579a4ec1"
      },
      "source": [
        "tuple = (\"Riki\",\"rockey\",122.3636,888)\n",
        "print(tuple)"
      ],
      "execution_count": null,
      "outputs": [
        {
          "output_type": "stream",
          "text": [
            "('Riki', 'rockey', 122.3636, 888)\n"
          ],
          "name": "stdout"
        }
      ]
    },
    {
      "cell_type": "code",
      "metadata": {
        "id": "YgMMyxMJsdJm",
        "colab_type": "code",
        "colab": {
          "base_uri": "https://localhost:8080/",
          "height": 34
        },
        "outputId": "fcfd7541-a99d-44d9-e465-d3395c00578d"
      },
      "source": [
        "tuple.count(\"rockey\")\n"
      ],
      "execution_count": null,
      "outputs": [
        {
          "output_type": "execute_result",
          "data": {
            "text/plain": [
              "1"
            ]
          },
          "metadata": {
            "tags": []
          },
          "execution_count": 114
        }
      ]
    },
    {
      "cell_type": "code",
      "metadata": {
        "id": "J975YUryssbN",
        "colab_type": "code",
        "colab": {
          "base_uri": "https://localhost:8080/",
          "height": 34
        },
        "outputId": "5d10ff49-b19e-460c-e14c-b89e511956cb"
      },
      "source": [
        "tuple.index(888)"
      ],
      "execution_count": null,
      "outputs": [
        {
          "output_type": "execute_result",
          "data": {
            "text/plain": [
              "3"
            ]
          },
          "metadata": {
            "tags": []
          },
          "execution_count": 115
        }
      ]
    },
    {
      "cell_type": "markdown",
      "metadata": {
        "id": "W52E2Uwys7zp",
        "colab_type": "text"
      },
      "source": [
        "**5.String and explore default methods**"
      ]
    },
    {
      "cell_type": "code",
      "metadata": {
        "id": "fhFTvhqVtCNK",
        "colab_type": "code",
        "colab": {
          "base_uri": "https://localhost:8080/",
          "height": 51
        },
        "outputId": "96ba94a0-a3ef-45fc-a1cb-7ccdcb753718"
      },
      "source": [
        "a = \"Hello world\"\n",
        "print(a)\n",
        "print(a[3:])\n"
      ],
      "execution_count": null,
      "outputs": [
        {
          "output_type": "stream",
          "text": [
            "Hello world\n",
            "lo world\n"
          ],
          "name": "stdout"
        }
      ]
    },
    {
      "cell_type": "code",
      "metadata": {
        "id": "Hu0dtFK5u85-",
        "colab_type": "code",
        "colab": {
          "base_uri": "https://localhost:8080/",
          "height": 34
        },
        "outputId": "ddf3b996-13ab-474f-8d8b-bb35400bdd03"
      },
      "source": [
        "print(a[1:3:2])"
      ],
      "execution_count": null,
      "outputs": [
        {
          "output_type": "stream",
          "text": [
            "e\n"
          ],
          "name": "stdout"
        }
      ]
    },
    {
      "cell_type": "code",
      "metadata": {
        "id": "wgqzv8MBvKnF",
        "colab_type": "code",
        "colab": {
          "base_uri": "https://localhost:8080/",
          "height": 51
        },
        "outputId": "d54a77f9-12b3-4bf7-c158-b2ba939c7d16"
      },
      "source": [
        "print(a[-5:-2])\n",
        "print(len(a))"
      ],
      "execution_count": null,
      "outputs": [
        {
          "output_type": "stream",
          "text": [
            "wor\n",
            "11\n"
          ],
          "name": "stdout"
        }
      ]
    },
    {
      "cell_type": "code",
      "metadata": {
        "id": "jn1Gbxa_vb49",
        "colab_type": "code",
        "colab": {
          "base_uri": "https://localhost:8080/",
          "height": 68
        },
        "outputId": "25e8f6bd-0f39-4865-da6e-6325158af0f8"
      },
      "source": [
        "b=\" Riki  Patel! \"\n",
        "print(b.strip())\n",
        "print(a.lower())\n",
        "print(b.upper())"
      ],
      "execution_count": null,
      "outputs": [
        {
          "output_type": "stream",
          "text": [
            "Riki  Patel!\n",
            "hello world\n",
            " RIKI  PATEL! \n"
          ],
          "name": "stdout"
        }
      ]
    },
    {
      "cell_type": "code",
      "metadata": {
        "id": "LBh57qOWv-fo",
        "colab_type": "code",
        "colab": {
          "base_uri": "https://localhost:8080/",
          "height": 51
        },
        "outputId": "76a2c620-6913-41d1-974e-b4372ef54230"
      },
      "source": [
        "print(b.replace(\"!\",\"?\"))\n",
        "type(a)"
      ],
      "execution_count": null,
      "outputs": [
        {
          "output_type": "stream",
          "text": [
            " Riki  Patel? \n"
          ],
          "name": "stdout"
        },
        {
          "output_type": "execute_result",
          "data": {
            "text/plain": [
              "str"
            ]
          },
          "metadata": {
            "tags": []
          },
          "execution_count": 131
        }
      ]
    },
    {
      "cell_type": "code",
      "metadata": {
        "id": "ov8Bvf0rwSst",
        "colab_type": "code",
        "colab": {
          "base_uri": "https://localhost:8080/",
          "height": 34
        },
        "outputId": "7095f16d-851b-4e01-b541-a7db437aae42"
      },
      "source": [
        "rp = \"37373.3838\"\n",
        "type(rp)"
      ],
      "execution_count": null,
      "outputs": [
        {
          "output_type": "execute_result",
          "data": {
            "text/plain": [
              "str"
            ]
          },
          "metadata": {
            "tags": []
          },
          "execution_count": 132
        }
      ]
    },
    {
      "cell_type": "code",
      "metadata": {
        "id": "VEtYLP9uwdn7",
        "colab_type": "code",
        "colab": {
          "base_uri": "https://localhost:8080/",
          "height": 34
        },
        "outputId": "1413e06b-f004-4750-866a-e991dc2541a3"
      },
      "source": [
        "print(b.split(\"i\"))"
      ],
      "execution_count": null,
      "outputs": [
        {
          "output_type": "stream",
          "text": [
            "[' R', 'k', '  Patel! ']\n"
          ],
          "name": "stdout"
        }
      ]
    },
    {
      "cell_type": "code",
      "metadata": {
        "id": "s9PexJswwwCw",
        "colab_type": "code",
        "colab": {
          "base_uri": "https://localhost:8080/",
          "height": 34
        },
        "outputId": "4c849163-3bb5-477d-f35b-52f201f3cb61"
      },
      "source": [
        "txt = \"The rain in Spain stays mainly in the plain\"\n",
        "x = \"ain\" in txt\n",
        "print(x)"
      ],
      "execution_count": null,
      "outputs": [
        {
          "output_type": "stream",
          "text": [
            "True\n"
          ],
          "name": "stdout"
        }
      ]
    }
  ]
}