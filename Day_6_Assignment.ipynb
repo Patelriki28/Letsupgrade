{
  "nbformat": 4,
  "nbformat_minor": 0,
  "metadata": {
    "colab": {
      "name": "Day 6 Assignment.ipynb",
      "provenance": [],
      "authorship_tag": "ABX9TyPJrpF84ENRGVNihYZ5aG1U",
      "include_colab_link": true
    },
    "kernelspec": {
      "name": "python3",
      "display_name": "Python 3"
    }
  },
  "cells": [
    {
      "cell_type": "markdown",
      "metadata": {
        "id": "view-in-github",
        "colab_type": "text"
      },
      "source": [
        "<a href=\"https://colab.research.google.com/github/Patelriki28/Letsupgrade-Python-Essentials/blob/master/Day_6_Assignment.ipynb\" target=\"_parent\"><img src=\"https://colab.research.google.com/assets/colab-badge.svg\" alt=\"Open In Colab\"/></a>"
      ]
    },
    {
      "cell_type": "markdown",
      "metadata": {
        "id": "3GnskyWGQwht",
        "colab_type": "text"
      },
      "source": [
        "**1.Bank account:-**"
      ]
    },
    {
      "cell_type": "code",
      "metadata": {
        "id": "E2mAW3sET4I5",
        "colab_type": "code",
        "colab": {
          "base_uri": "https://localhost:8080/",
          "height": 170
        },
        "outputId": "cb4abc89-ef82-41ba-d630-5bce33b75291"
      },
      "source": [
        "# Python program to create Bankaccount class \n",
        "\n",
        "class Bank_Account: \n",
        "\tdef __init__(self): \n",
        "\t\tself.balance=0\n",
        "\t\tprint(\"Hello!!! Welcome to the Deposit & Withdrawal Machine\") \n",
        "\n",
        "\tdef deposit(self): \n",
        "\t\tamount=float(input(\"Enter amount to be Deposited: \")) \n",
        "\t\tself.balance += amount \n",
        "\t\tprint(\"\\n Amount Deposited:\",amount) \n",
        "\n",
        "\tdef withdraw(self): \n",
        "\t\tamount = float(input(\"Enter amount to be Withdrawn: \")) \n",
        "\t\tif self.balance>=amount: \n",
        "\t\t\tself.balance-=amount \n",
        "\t\t\tprint(\"\\n You Withdrew:\", amount) \n",
        "\t\telse: \n",
        "\t\t\tprint(\"\\n Insufficient balance \") \n",
        "\n",
        "\tdef display(self): \n",
        "\t\tprint(\"\\n Net Available Balance=\",self.balance) \n",
        "\n",
        "\n",
        "\n",
        "s = Bank_Account() \n",
        "\n",
        "s.deposit() \n",
        "s.withdraw() \n",
        "s.display() \n"
      ],
      "execution_count": 1,
      "outputs": [
        {
          "output_type": "stream",
          "text": [
            "Hello!!! Welcome to the Deposit & Withdrawal Machine\n",
            "Enter amount to be Deposited: 50000\n",
            "\n",
            " Amount Deposited: 50000.0\n",
            "Enter amount to be Withdrawn: 7899\n",
            "\n",
            " You Withdrew: 7899.0\n",
            "\n",
            " Net Available Balance= 42101.0\n"
          ],
          "name": "stdout"
        }
      ]
    },
    {
      "cell_type": "markdown",
      "metadata": {
        "id": "TPnVN-vAUWEV",
        "colab_type": "text"
      },
      "source": [
        "**2.Find th area of clone**"
      ]
    },
    {
      "cell_type": "code",
      "metadata": {
        "id": "qXtxhP1VT16v",
        "colab_type": "code",
        "colab": {
          "base_uri": "https://localhost:8080/",
          "height": 51
        },
        "outputId": "6215c98e-bc23-44c2-aca7-c483dfde3d3e"
      },
      "source": [
        "# Importing Math library for value Of PI \n",
        "import math \n",
        "pi = math.pi \n",
        "\n",
        "\n",
        "def volume(r, h): \n",
        "\treturn (1 / 3) * pi * r * r * h \n",
        "\n",
        "\n",
        "def surfacearea(r, s): \n",
        "\treturn pi * r * s + pi * r * r \n",
        "\n",
        "\n",
        "radius = float(5) \n",
        "height = float(12) \n",
        "slat_height = float(13) \n",
        "print( \"Volume Of Cone : \", volume(radius, height) ) \n",
        "print( \"Surface Area Of Cone : \", surfacearea(radius, slat_height) ) \n"
      ],
      "execution_count": 2,
      "outputs": [
        {
          "output_type": "stream",
          "text": [
            "Volume Of Cone :  314.15926535897927\n",
            "Surface Area Of Cone :  282.7433388230814\n"
          ],
          "name": "stdout"
        }
      ]
    }
  ]
}