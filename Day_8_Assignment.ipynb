{
  "nbformat": 4,
  "nbformat_minor": 0,
  "metadata": {
    "colab": {
      "name": "Day 8 Assignment.ipynb",
      "provenance": [],
      "authorship_tag": "ABX9TyOxCQUvERwXO5qhhAPZMgk0",
      "include_colab_link": true
    },
    "kernelspec": {
      "name": "python3",
      "display_name": "Python 3"
    }
  },
  "cells": [
    {
      "cell_type": "markdown",
      "metadata": {
        "id": "view-in-github",
        "colab_type": "text"
      },
      "source": [
        "<a href=\"https://colab.research.google.com/github/Patelriki28/Letsupgrade-Python-Essentials/blob/master/Day_8_Assignment.ipynb\" target=\"_parent\"><img src=\"https://colab.research.google.com/assets/colab-badge.svg\" alt=\"Open In Colab\"/></a>"
      ]
    },
    {
      "cell_type": "markdown",
      "metadata": {
        "id": "b9RgVTO7WWyn",
        "colab_type": "text"
      },
      "source": [
        "**1.Use of Decodator function**"
      ]
    },
    {
      "cell_type": "code",
      "metadata": {
        "id": "XaiPAHM_We2i",
        "colab_type": "code",
        "colab": {
          "base_uri": "https://localhost:8080/",
          "height": 68
        },
        "outputId": "ba661882-4a5c-4987-8496-50cc186ef325"
      },
      "source": [
        "# defining a decorator \n",
        "def hello_decorator(func): \n",
        "\n",
        "\t\n",
        "\tdef inner1(): \n",
        "\t\tprint(\"Hello, this is before function execution\") \n",
        "\n",
        "\t\tfunc() \n",
        "\n",
        "\t\tprint(\"This is after function execution\") \n",
        "\t\t\n",
        "\treturn inner1 \n",
        "\n",
        "def function_to_be_used(): \n",
        "\tprint(\"This is inside the function !!\") \n",
        "\n",
        "function_to_be_used = hello_decorator(function_to_be_used) \n",
        "\n",
        "\n",
        "function_to_be_used() \n"
      ],
      "execution_count": 1,
      "outputs": [
        {
          "output_type": "stream",
          "text": [
            "Hello, this is before function execution\n",
            "This is inside the function !!\n",
            "This is after function execution\n"
          ],
          "name": "stdout"
        }
      ]
    },
    {
      "cell_type": "markdown",
      "metadata": {
        "id": "6lBKwt4AW5m7",
        "colab_type": "text"
      },
      "source": [
        "**2.Exception handling**"
      ]
    },
    {
      "cell_type": "code",
      "metadata": {
        "id": "iFETNRvcYJb4",
        "colab_type": "code",
        "colab": {
          "base_uri": "https://localhost:8080/",
          "height": 51
        },
        "outputId": "71c35dce-58dc-4ef0-c21d-aef30ecf4060"
      },
      "source": [
        "try: \n",
        "\tk = 5//0 \n",
        "\tprint(k) \n",
        "\t\n",
        "except ZeroDivisionError:\t \n",
        "\tprint(\"Can't divide by zero\") \n",
        "\t\t\n",
        "finally: \n",
        "\t# this block is always executed \n",
        "\t# regardless of exception generation. \n",
        "\tprint('This is always executed') \n"
      ],
      "execution_count": 3,
      "outputs": [
        {
          "output_type": "stream",
          "text": [
            "Can't divide by zero\n",
            "This is always executed\n"
          ],
          "name": "stdout"
        }
      ]
    }
  ]
}